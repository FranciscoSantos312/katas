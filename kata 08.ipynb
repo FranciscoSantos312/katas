{
 "cells": [
  {
   "cell_type": "markdown",
   "metadata": {},
   "source": [
    "Ejercicio 1: Creación de diccionarios de Python\n",
    "\n",
    "Ejercicio 2: Programación dinámica con diccionarios"
   ]
  },
  {
   "cell_type": "code",
   "execution_count": 46,
   "metadata": {},
   "outputs": [
    {
     "name": "stdout",
     "output_type": "stream",
     "text": [
      "el planeta marte tiene 2 satelites\n"
     ]
    }
   ],
   "source": [
    "planeta = {\n",
    "\"nombre\":\"marte\", \n",
    "\"lunas\":2  }\n",
    "print(f'el planeta {planeta.get(\"nombre\")} tiene {planeta.get(\"lunas\")} satelites' )\n",
    "\n"
   ]
  },
  {
   "cell_type": "code",
   "execution_count": 60,
   "metadata": {},
   "outputs": [
    {
     "name": "stdout",
     "output_type": "stream",
     "text": [
      "el planeta marte tiene 5752 km de circunferencia polar\n"
     ]
    }
   ],
   "source": [
    "planeta = {\n",
    "    \"nombre\": \"marte\",\n",
    "    \"lunas\": 2}\n",
    "\n",
    "planeta[\"circunferencia (km)\"] = {\n",
    "    \"polar\":5752,\"equatorial\": 6792}\n",
    "\n",
    "print(f\"\"\"el planeta {planeta[\"nombre\"]} tiene {planeta[\"circunferencia (km)\"][\"polar\"]} km de circunferencia polar\"\"\")\n",
    "    \n"
   ]
  },
  {
   "cell_type": "code",
   "execution_count": 63,
   "metadata": {},
   "outputs": [
    {
     "name": "stdout",
     "output_type": "stream",
     "text": [
      "17.833333333333332\n"
     ]
    }
   ],
   "source": [
    "satelites_dePlanetas = {\n",
    "    'mercury': 0,\n",
    "    'venus': 0,\n",
    "    'earth': 1,\n",
    "    'mars': 2,\n",
    "    'jupiter': 79,\n",
    "    'saturn': 82,\n",
    "    'uranus': 27,\n",
    "    'neptune': 14,\n",
    "    'pluto': 5,\n",
    "    'haumea': 2,\n",
    "    'makemake': 1,\n",
    "    'eris': 1\n",
    "}\n",
    "lunas = satelites_dePlanetas.values()\n",
    "numPlanetas= len (satelites_dePlanetas.keys())\n",
    "totalLunas= 0\n",
    "for lunas in lunas:\n",
    "    totalLunas = totalLunas + lunas\n",
    "calculo = totalLunas / numPlanetas\n",
    "print (calculo)\n",
    "\n",
    "\n"
   ]
  }
 ],
 "metadata": {
  "interpreter": {
   "hash": "cb76ed4e37470d93f09dd6e95549730568701fab57bfa47dbd033a1ed0220b5b"
  },
  "kernelspec": {
   "display_name": "Python 3.10.2 64-bit (windows store)",
   "language": "python",
   "name": "python3"
  },
  "language_info": {
   "codemirror_mode": {
    "name": "ipython",
    "version": 3
   },
   "file_extension": ".py",
   "mimetype": "text/x-python",
   "name": "python",
   "nbconvert_exporter": "python",
   "pygments_lexer": "ipython3",
   "version": "3.10.2"
  },
  "orig_nbformat": 4
 },
 "nbformat": 4,
 "nbformat_minor": 2
}
