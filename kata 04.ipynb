{
 "cells": [
  {
   "cell_type": "code",
   "execution_count": 58,
   "metadata": {},
   "outputs": [
    {
     "name": "stdout",
     "output_type": "stream",
     "text": [
      "['Interesting facts about the Moon', \" The Moon is Earth's only satellite\", ' There are several interesting facts about the Moon and how it affects life here on Earth', ' \\n        On average, the Moon moves 4cm away from the Earth every year', ' This yearly drift is not significant enough to cause immediate effects on Earth', ' The highest daylight temperature of the Moon is 127 C', '']\n"
     ]
    }
   ],
   "source": [
    "text = \"\"\"Interesting facts about the Moon. The Moon is Earth's only satellite. There are several interesting facts about the Moon and how it affects life here on Earth. \n",
    "        On average, the Moon moves 4cm away from the Earth every year. This yearly drift is not significant enough to cause immediate effects on Earth. The highest daylight temperature of the Moon is 127 C.\"\"\"\n",
    "\n",
    "texto = text.split('. ') #separamos el texto con el metodo .split()\n",
    "print(texto)\n",
    "\n",
    " \n"
   ]
  },
  {
   "cell_type": "code",
   "execution_count": 59,
   "metadata": {},
   "outputs": [
    {
     "name": "stdout",
     "output_type": "stream",
     "text": [
      " \n",
      "        On average, the Moon moves 4cm away from the Earth every year\n",
      " The highest daylight temperature of the Moon is 127 Celsius\n"
     ]
    }
   ],
   "source": [
    "palabras = [\"average\", \"temperature\", \"distance\"] #hacemos una lista con las palabras que buscaremos\n",
    "\n",
    "for texto1 in texto : #realizamos 2 for para buscar las palabras\n",
    "    for oraciones in palabras:\n",
    "        if oraciones in texto1 : # con un if le decimos que imprima las oraciones que buscamos con la lista de palabras anterior\n",
    "            print(texto1.replace('C','Celsius')) # con el metodo .replace cambiamos la \"c\" por la palabra \"celsius\""
   ]
  },
  {
   "cell_type": "markdown",
   "metadata": {},
   "source": [
    "FORMATEANDO CADENAS"
   ]
  },
  {
   "cell_type": "code",
   "execution_count": 61,
   "metadata": {},
   "outputs": [
    {
     "name": "stdout",
     "output_type": "stream",
     "text": [
      " estos datos se han recopilado sobre la gravedad de  la luna \n",
      "---------------------------------------------------- \n",
      "Nombre del planeta:luna\n",
      "gravedad en la tierra: 1.6199999999999999 m/s2\n",
      " estos datos se han recopilado sobre la gravedad de marte \n",
      "----------------------------------------------------\n",
      "Nombre del planeta: marte\n",
      "gravedad en  ganimedes:1.4300000000000002 m/s2\n"
     ]
    }
   ],
   "source": [
    "nombre = \"luna\"          # ponemos los datos que usaremos en este caso inf. de planetas\n",
    "gravedad = 0.00162\n",
    "planeta = \"tierra\"\n",
    "\n",
    "titulo = f\" estos datos se han recopilado sobre la gravedad de  la {nombre} \" # creamos un titulo y con el metodo format de esta forma f\"{}\"\" donde en las llaves \n",
    "#llamaremos a la variable nombre \n",
    "\n",
    "\n",
    "informacion = f\"\"\"---------------------------------------------------- \n",
    "Nombre del planeta:{nombre}\n",
    "gravedad en la {planeta}: {gravedad*1000} m/s2\"\"\"  # con el mismo formato f\"{}\"\" llamamos a las demas variables\n",
    "\n",
    "\n",
    "info= f\"{titulo}\\n{informacion}\" #unimos los parrafos\n",
    "print(info)\n",
    "\n",
    "nombre = \"marte\"  # ponemos nuevos datos\n",
    "gravedad=0.00143\n",
    "planeta=\"ganimedes\"\n",
    "\n",
    "titulo = \" estos datos se han recopilado sobre la gravedad de {0} \".format(nombre) #reutilizamos la plantilla solo que con el mismo metodo pero diferente forma\n",
    "# .format() para que no lea las variables anteriores ya que se llaman igual\n",
    "\n",
    "newinformacion = \"\"\"----------------------------------------------------\n",
    "Nombre del planeta: {0}\n",
    "gravedad en  {1}:{2} m/s2\"\"\".format(nombre,planeta,gravedad*1000) #aqui usamos igual el .format() solo que la operacion de lagravedad se hace desde el .format\n",
    "\n",
    "info= print(f\"{titulo}\\n{newinformacion}\")\n",
    "\n"
   ]
  },
  {
   "cell_type": "code",
   "execution_count": 45,
   "metadata": {},
   "outputs": [],
   "source": []
  }
 ],
 "metadata": {
  "interpreter": {
   "hash": "d69e374d707c9c5410f5bda41550409646107ef7835e22295720d597ec851d4e"
  },
  "kernelspec": {
   "display_name": "Python 3.10.2 64-bit",
   "language": "python",
   "name": "python3"
  },
  "language_info": {
   "codemirror_mode": {
    "name": "ipython",
    "version": 3
   },
   "file_extension": ".py",
   "mimetype": "text/x-python",
   "name": "python",
   "nbconvert_exporter": "python",
   "pygments_lexer": "ipython3",
   "version": "3.10.2"
  },
  "orig_nbformat": 4
 },
 "nbformat": 4,
 "nbformat_minor": 2
}
