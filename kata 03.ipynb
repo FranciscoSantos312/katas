{
 "cells": [
  {
   "cell_type": "markdown",
   "metadata": {},
   "source": [
    "# OOOH NO UN ASTEROIDE SE ACERCA¡¡¡¡¡"
   ]
  },
  {
   "cell_type": "code",
   "execution_count": 32,
   "metadata": {},
   "outputs": [
    {
     "name": "stdout",
     "output_type": "stream",
     "text": [
      "el asteroide tiene una velocidad de 100000 km/S o mas, resguardense en un lugar seguro\n"
     ]
    }
   ],
   "source": [
    "#advertencia de asteroide\n",
    "asteroide = (100000) # agregamos la velocidad del asteroide en nuestra variable\n",
    "if asteroide >= 25: # usamos la condicion if  para saber si la velocidad es mayor o igual que la onu acepta que no pasara nada en la tierra XD\n",
    "    print(\"el asteroide tiene una velocidad de \" + str(asteroide) + \" km/S o mas, resguardense en un lugar seguro\") #imprimimos nuestro mensaje\n",
    "else : print(\"no pasa nada el asteroide se desintegrara en la atmosfera\")  # si la condicion no se cumple con un else imprimimos otro mensaje\n"
   ]
  },
  {
   "cell_type": "code",
   "execution_count": 37,
   "metadata": {},
   "outputs": [
    {
     "name": "stdout",
     "output_type": "stream",
     "text": [
      "el asteroide no se puede ver :(\n"
     ]
    }
   ],
   "source": [
    "#poder ver el asteroide\n",
    "asteroide = 19 #declaramos las variables para nuesto asteroide\n",
    "if asteroide > 20: #si el asteroide es mayor que 20 se podra ver en el cielo\n",
    "    print(\"el asteroide entro en orbita busca el destello en el cielo¡¡¡\")\n",
    "elif asteroide < 20:  # sie la velocidad es menor no podra ver el destello ;(\n",
    "    print(\"el asteroide no se puede ver :(\")\n",
    "else : print(\" el asteroide entro en orbita busca el destello en el cielo¡¡¡ \") #si la velocidad es igual si podremos verlo :)\n"
   ]
  },
  {
   "cell_type": "markdown",
   "metadata": {},
   "source": []
  },
  {
   "cell_type": "code",
   "execution_count": 77,
   "metadata": {},
   "outputs": [
    {
     "name": "stdout",
     "output_type": "stream",
     "text": [
      "este asteroide causara mucho daño en la tierra¡¡¡¡\n",
      "busque un refugio\n"
     ]
    }
   ],
   "source": [
    "#advertencia de asteroide mas complejo\n",
    "velocidad =100 # declaramos la varible de velocidad\n",
    "tamaño = 2000   # declaramos la velocidad de tamaño no se recomienda usar la ñ en variables luego no lo reconoce\n",
    "\n",
    "if tamaño >= 1000: #si el tamaño del asteroide es mayor a 1000 quedaremos fulminados\n",
    "    print(\"este asteroide causara mucho daño en la tierra¡¡¡¡\") \n",
    "elif tamaño <= 25 or tamaño <= 999: # si el tamaño del asteroide es menor que los valores estamos a salvo\n",
    "    print(\"fuera de peligro\")\n",
    "    \n",
    "if velocidad >= 25 and tamaño >= 1000: # si la velocidad es mayor o igual a 25 y el tamaño es igual o mayor a 1000 alertaremos a los humanos\n",
    "        print(\"busque un refugio\")\n",
    "if velocidad >= 20 and tamaño < 999: #si la velocidad es mayor a 20 y el tamaño es 999 sera seguro salir a ver\n",
    "    print(\"es seguro salir a ver el destello del asteroide\")\n",
    "if velocidad <=20 :\n",
    "    print(\"el destello del asteroide no se alcanza a ver :(\") #si la velocidad no se cumple entonces no se podra ver el destello\n",
    "    \n",
    "\n"
   ]
  }
 ],
 "metadata": {
  "interpreter": {
   "hash": "cb76ed4e37470d93f09dd6e95549730568701fab57bfa47dbd033a1ed0220b5b"
  },
  "kernelspec": {
   "display_name": "Python 3.10.2 64-bit (windows store)",
   "language": "python",
   "name": "python3"
  },
  "language_info": {
   "codemirror_mode": {
    "name": "ipython",
    "version": 3
   },
   "file_extension": ".py",
   "mimetype": "text/x-python",
   "name": "python",
   "nbconvert_exporter": "python",
   "pygments_lexer": "ipython3",
   "version": "3.10.2"
  },
  "orig_nbformat": 4
 },
 "nbformat": 4,
 "nbformat_minor": 2
}
