{
 "cells": [
  {
   "cell_type": "markdown",
   "metadata": {},
   "source": [
    "Generación de excepciones"
   ]
  },
  {
   "cell_type": "code",
   "execution_count": 1,
   "metadata": {},
   "outputs": [
    {
     "data": {
      "text/plain": [
       "'El agua restante despues de 2 dias es de -10 litros'"
      ]
     },
     "execution_count": 1,
     "metadata": {},
     "output_type": "execute_result"
    }
   ],
   "source": [
    "def agua_restante(astronautas, aguaRestante, diasRestantes):\n",
    "    usoDiario = astronautas * 11\n",
    "    usoTotal = usoDiario * diasRestantes\n",
    "    totalAgua = aguaRestante - usoTotal\n",
    "\n",
    "    return f'El agua restante despues de {diasRestantes} dias es de {totalAgua} litros'\n",
    "\n",
    "\n",
    "agua_restante(5, 100, 2)\n"
   ]
  },
  {
   "cell_type": "code",
   "execution_count": 5,
   "metadata": {},
   "outputs": [
    {
     "ename": "RuntimeError",
     "evalue": "No hay agua suficiente para 5 astronautas después de 2 dias",
     "output_type": "error",
     "traceback": [
      "\u001b[1;31m---------------------------------------------------------------------------\u001b[0m",
      "\u001b[1;31mRuntimeError\u001b[0m                              Traceback (most recent call last)",
      "\u001b[1;32mUntitled-1.ipynb Cell 3'\u001b[0m in \u001b[0;36m<module>\u001b[1;34m\u001b[0m\n\u001b[0;32m      <a href='vscode-notebook-cell:Untitled-1.ipynb?jupyter-notebook#ch0000003untitled?line=5'>6</a>\u001b[0m         \u001b[39mraise\u001b[39;00m \u001b[39mRuntimeError\u001b[39;00m(\n\u001b[0;32m      <a href='vscode-notebook-cell:Untitled-1.ipynb?jupyter-notebook#ch0000003untitled?line=6'>7</a>\u001b[0m             \u001b[39mf\u001b[39m\u001b[39m'\u001b[39m\u001b[39mNo hay agua suficiente para \u001b[39m\u001b[39m{\u001b[39;00mastronautas\u001b[39m}\u001b[39;00m\u001b[39m astronautas después de \u001b[39m\u001b[39m{\u001b[39;00mdiasRestantes\u001b[39m}\u001b[39;00m\u001b[39m dias\u001b[39m\u001b[39m'\u001b[39m)\n\u001b[0;32m      <a href='vscode-notebook-cell:Untitled-1.ipynb?jupyter-notebook#ch0000003untitled?line=7'>8</a>\u001b[0m     \u001b[39mreturn\u001b[39;00m \u001b[39mf\u001b[39m\u001b[39m'\u001b[39m\u001b[39mEl agua restante despues de \u001b[39m\u001b[39m{\u001b[39;00mdiasRestantes\u001b[39m}\u001b[39;00m\u001b[39m dias es de \u001b[39m\u001b[39m{\u001b[39;00mtotalAgua\u001b[39m}\u001b[39;00m\u001b[39m litros\u001b[39m\u001b[39m'\u001b[39m\n\u001b[1;32m---> <a href='vscode-notebook-cell:Untitled-1.ipynb?jupyter-notebook#ch0000003untitled?line=10'>11</a>\u001b[0m agua_restante(\u001b[39m5\u001b[39;49m, \u001b[39m100\u001b[39;49m, \u001b[39m2\u001b[39;49m)\n\u001b[0;32m     <a href='vscode-notebook-cell:Untitled-1.ipynb?jupyter-notebook#ch0000003untitled?line=11'>12</a>\u001b[0m \u001b[39mtry\u001b[39;00m:\n\u001b[0;32m     <a href='vscode-notebook-cell:Untitled-1.ipynb?jupyter-notebook#ch0000003untitled?line=12'>13</a>\u001b[0m     agua_restante(\u001b[39m5\u001b[39m, \u001b[39m100\u001b[39m, \u001b[39m2\u001b[39m)\n",
      "\u001b[1;32mUntitled-1.ipynb Cell 3'\u001b[0m in \u001b[0;36magua_restante\u001b[1;34m(astronautas, aguaRestante, diasRestantes)\u001b[0m\n\u001b[0;32m      <a href='vscode-notebook-cell:Untitled-1.ipynb?jupyter-notebook#ch0000003untitled?line=3'>4</a>\u001b[0m totalAgua \u001b[39m=\u001b[39m aguaRestante \u001b[39m-\u001b[39m usoTotal\n\u001b[0;32m      <a href='vscode-notebook-cell:Untitled-1.ipynb?jupyter-notebook#ch0000003untitled?line=4'>5</a>\u001b[0m \u001b[39mif\u001b[39;00m totalAgua \u001b[39m<\u001b[39m \u001b[39m0\u001b[39m:\n\u001b[1;32m----> <a href='vscode-notebook-cell:Untitled-1.ipynb?jupyter-notebook#ch0000003untitled?line=5'>6</a>\u001b[0m     \u001b[39mraise\u001b[39;00m \u001b[39mRuntimeError\u001b[39;00m(\n\u001b[0;32m      <a href='vscode-notebook-cell:Untitled-1.ipynb?jupyter-notebook#ch0000003untitled?line=6'>7</a>\u001b[0m         \u001b[39mf\u001b[39m\u001b[39m'\u001b[39m\u001b[39mNo hay agua suficiente para \u001b[39m\u001b[39m{\u001b[39;00mastronautas\u001b[39m}\u001b[39;00m\u001b[39m astronautas después de \u001b[39m\u001b[39m{\u001b[39;00mdiasRestantes\u001b[39m}\u001b[39;00m\u001b[39m dias\u001b[39m\u001b[39m'\u001b[39m)\n\u001b[0;32m      <a href='vscode-notebook-cell:Untitled-1.ipynb?jupyter-notebook#ch0000003untitled?line=7'>8</a>\u001b[0m \u001b[39mreturn\u001b[39;00m \u001b[39mf\u001b[39m\u001b[39m'\u001b[39m\u001b[39mEl agua restante despues de \u001b[39m\u001b[39m{\u001b[39;00mdiasRestantes\u001b[39m}\u001b[39;00m\u001b[39m dias es de \u001b[39m\u001b[39m{\u001b[39;00mtotalAgua\u001b[39m}\u001b[39;00m\u001b[39m litros\u001b[39m\u001b[39m'\u001b[39m\n",
      "\u001b[1;31mRuntimeError\u001b[0m: No hay agua suficiente para 5 astronautas después de 2 dias"
     ]
    }
   ],
   "source": [
    "def agua_restante(astronautas, aguaRestante, diasRestantes):\n",
    "    usoDiario = astronautas * 11\n",
    "    usoTotal = usoDiario * diasRestantes\n",
    "    totalAgua = aguaRestante - usoTotal\n",
    "    if totalAgua < 0:\n",
    "        raise RuntimeError(\n",
    "            f'No hay agua suficiente para {astronautas} astronautas después de {diasRestantes} dias')\n",
    "    return f'El agua restante despues de {diasRestantes} dias es de {totalAgua} litros'\n",
    "\n",
    "\n",
    "agua_restante(5, 100, 2)\n",
    "try:\n",
    "    agua_restante(5, 100, 2)\n",
    "\n",
    "except RuntimeError as error:\n",
    "\n",
    "    print(error)\n"
   ]
  }
 ],
 "metadata": {
  "interpreter": {
   "hash": "cb76ed4e37470d93f09dd6e95549730568701fab57bfa47dbd033a1ed0220b5b"
  },
  "kernelspec": {
   "display_name": "Python 3.10.2 64-bit (windows store)",
   "language": "python",
   "name": "python3"
  },
  "language_info": {
   "codemirror_mode": {
    "name": "ipython",
    "version": 3
   },
   "file_extension": ".py",
   "mimetype": "text/x-python",
   "name": "python",
   "nbconvert_exporter": "python",
   "pygments_lexer": "ipython3",
   "version": "3.10.2"
  },
  "orig_nbformat": 4
 },
 "nbformat": 4,
 "nbformat_minor": 2
}
