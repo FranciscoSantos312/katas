{
 "cells": [
  {
   "cell_type": "markdown",
   "metadata": {},
   "source": [
    "Ejercicio 1: Trabajar con argumentos en funciones\n",
    "\n",
    "Ejercicio : Trabajar con argumentos de palabras clave en funciones"
   ]
  },
  {
   "cell_type": "code",
   "execution_count": 76,
   "metadata": {},
   "outputs": [
    {
     "name": "stdout",
     "output_type": "stream",
     "text": [
      "reporte de gas:\n",
      "    total de gas: 78.33333333333333%\n",
      "    tanque 1: 80%\n",
      "    tanque 2: 70%\n",
      "    tanque 3: 85%\n"
     ]
    }
   ],
   "source": [
    "def tanquesGas (tanque1, tanque2, tanque3):\n",
    "    total = (tanque1 + tanque2 + tanque3) / 3\n",
    "    return f\"\"\"reporte de gas:\n",
    "    total de gas: {total}%\n",
    "    tanque 1: {tanque1}%\n",
    "    tanque 2: {tanque2}%\n",
    "    tanque 3: {tanque3}%\"\"\"\n",
    "print(tanquesGas(80,70,85))"
   ]
  },
  {
   "cell_type": "code",
   "execution_count": 80,
   "metadata": {},
   "outputs": [
    {
     "name": "stdout",
     "output_type": "stream",
     "text": [
      "reporte de gas:\n",
      "    total de gas: 78.33333333333333\n",
      "    tanque 1: 80%\n",
      "    tanque 2: 70%\n",
      "    tanque 3: 85%\n"
     ]
    }
   ],
   "source": [
    "def promedio(values):\n",
    "    total = sum(values)\n",
    "    number_for_items = len(values)\n",
    "    return total / number_for_items\n",
    "    \n",
    "def tanquesGas (tanque1, tanque2, tanque3):\n",
    "    return f\"\"\"reporte de gas:\n",
    "    total de gas: {promedio([tanque1, tanque2, tanque3]) }\n",
    "    tanque 1: {tanque1}%\n",
    "    tanque 2: {tanque2}%\n",
    "    tanque 3: {tanque3}%\"\"\"\n",
    "print(tanquesGas(80,70,85))"
   ]
  },
  {
   "cell_type": "code",
   "execution_count": 82,
   "metadata": {},
   "outputs": [
    {
     "name": "stdout",
     "output_type": "stream",
     "text": [
      "\n",
      "    mision  la Luna\n",
      "    tiempo de viaje 102 minutos\n",
      "    total de combustible 500000 galones\n"
     ]
    }
   ],
   "source": [
    "def reporte_mision(tiempo_deLanzamiento, tiempoDeVuelo, destino, tanqueExterno, tanqueMain):\n",
    "    return f\"\"\"\n",
    "    mision  {destino}\n",
    "    tiempo de viaje {tiempoDeVuelo + tiempoDeVuelo} minutos\n",
    "    total de combustible {tanqueExterno + tanqueMain} galones\"\"\"\n",
    "print(reporte_mision(14, 51, \"la Luna\", 200000,300000))"
   ]
  },
  {
   "cell_type": "code",
   "execution_count": 84,
   "metadata": {},
   "outputs": [
    {
     "name": "stdout",
     "output_type": "stream",
     "text": [
      "\n",
      "    mision la luna\n",
      "    total de tiempo: 76 minutos\n",
      "    total de combustible: 500000\n"
     ]
    }
   ],
   "source": [
    "def reporte_mision (destination,*minutes,**fuel_reservas):\n",
    "    return f\"\"\"\n",
    "    mision {destination}\n",
    "    total de tiempo: {sum(minutes)} minutos\n",
    "    total de combustible: {sum(fuel_reservas.values())}\"\"\"\n",
    "print (reporte_mision(\"la luna\",10,15,51, main=300000, external=200000))"
   ]
  },
  {
   "cell_type": "code",
   "execution_count": 3,
   "metadata": {},
   "outputs": [
    {
     "name": "stdout",
     "output_type": "stream",
     "text": [
      "\n",
      "    mision la luna\n",
      "    total de tiempo: 74 minutos\n",
      "    total de combustible: 500000\n"
     ]
    }
   ],
   "source": [
    "def reporte_mision(destination, *minutes, **fuel_reservas):\n",
    "    return f\"\"\"\n",
    "    mision {destination}\n",
    "    total de tiempo: {sum(minutes)} minutos\n",
    "    total de combustible: {sum(fuel_reservas.values())}\"\"\"\n",
    "\n",
    "    for tank_name, gallons in fuel_reservas.items():\n",
    "        main_report += f\"{tank_name} tank --> {gallons} gallons left\\n\"\n",
    "    return main_report\n",
    "print(reporte_mision(\"la luna\",8,11,55, main=300000,externo=200000))"
   ]
  }
 ],
 "metadata": {
  "interpreter": {
   "hash": "cb76ed4e37470d93f09dd6e95549730568701fab57bfa47dbd033a1ed0220b5b"
  },
  "kernelspec": {
   "display_name": "Python 3.10.2 64-bit (windows store)",
   "language": "python",
   "name": "python3"
  },
  "language_info": {
   "codemirror_mode": {
    "name": "ipython",
    "version": 3
   },
   "file_extension": ".py",
   "mimetype": "text/x-python",
   "name": "python",
   "nbconvert_exporter": "python",
   "pygments_lexer": "ipython3",
   "version": "3.10.2"
  },
  "orig_nbformat": 4
 },
 "nbformat": 4,
 "nbformat_minor": 2
}
