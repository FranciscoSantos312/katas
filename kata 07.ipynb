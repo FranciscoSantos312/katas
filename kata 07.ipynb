{
 "cells": [
  {
   "cell_type": "markdown",
   "metadata": {},
   "source": [
    "Ejercicio 1: Creación de un bucle \"while\" \n",
    "\n",
    "Ejercicio 2: Creación de un ciclo \"for\"\n"
   ]
  },
  {
   "cell_type": "code",
   "execution_count": 14,
   "metadata": {},
   "outputs": [
    {
     "name": "stdout",
     "output_type": "stream",
     "text": [
      "urano\n",
      "venus\n",
      "saturno\n"
     ]
    }
   ],
   "source": [
    "nuevos_planetas = \"\" #creamos la variable \n",
    "planetas = [ ]       # para almacenar la cadena\n",
    "#creamos la variable donde se guardara la lista\n",
    "\n",
    "while nuevos_planetas != 'done': #ponemos el ciclo while\n",
    "    if nuevos_planetas.lower():  # con la condicion\n",
    "        planetas.append(nuevos_planetas)\n",
    "    nuevos_planetas= input(\"escribe los planetas\")#poner el imput a la altura del if\n",
    "for planetasNew in planetas: # con el for imprimimos\n",
    "    print(planetasNew)       # lo que se guardo en la lista   \n",
    "            \n",
    "        \n"
   ]
  }
 ],
 "metadata": {
  "interpreter": {
   "hash": "cb76ed4e37470d93f09dd6e95549730568701fab57bfa47dbd033a1ed0220b5b"
  },
  "kernelspec": {
   "display_name": "Python 3.10.2 64-bit (windows store)",
   "language": "python",
   "name": "python3"
  },
  "language_info": {
   "codemirror_mode": {
    "name": "ipython",
    "version": 3
   },
   "file_extension": ".py",
   "mimetype": "text/x-python",
   "name": "python",
   "nbconvert_exporter": "python",
   "pygments_lexer": "ipython3",
   "version": "3.10.2"
  },
  "orig_nbformat": 4
 },
 "nbformat": 4,
 "nbformat_minor": 2
}
