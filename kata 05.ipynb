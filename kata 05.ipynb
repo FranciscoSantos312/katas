{
 "cells": [
  {
   "cell_type": "code",
   "execution_count": 1,
   "metadata": {},
   "outputs": [
    {
     "name": "stdout",
     "output_type": "stream",
     "text": [
      "la distancia es  628949\n",
      "la distancia es 390577 KM\n"
     ]
    }
   ],
   "source": [
    "\n",
    "tierra = 149597.870\n",
    "jupiter = 778547.200\n",
    "distancia =  (round(tierra - jupiter))\n",
    "distanciaKm= round((distancia) * 0.621)\n",
    "print(\"la distancia es \", abs (distancia)   )\n",
    "print (\"la distancia es\",abs(distanciaKm), \"KM\")\n"
   ]
  },
  {
   "cell_type": "code",
   "execution_count": 6,
   "metadata": {},
   "outputs": [
    {
     "name": "stdout",
     "output_type": "stream",
     "text": [
      "la distancia entre los 2 planetas es de  5470298920 KM\n",
      "ladistancia em millas es de  3397055629 M\n"
     ]
    }
   ],
   "source": [
    "planeta1 = input (\"ingresa la distancia del primer planeta\")\n",
    "planeta2 = input (\"ingresa la distancia del segundo planeta\")\n",
    "planetA1 = int (planeta1)\n",
    "planetA2 = int(planeta2) \n",
    "distancia = abs(planetA1 - planetA2)\n",
    "distanciaMillas = round (abs(distancia)*0.621)\n",
    "print(\"la distancia entre los 2 planetas es de \", distancia, \"KM\")\n",
    "print(\"ladistancia em millas es de \", distanciaMillas, \"M\")\n",
    "\n"
   ]
  }
 ],
 "metadata": {
  "interpreter": {
   "hash": "d69e374d707c9c5410f5bda41550409646107ef7835e22295720d597ec851d4e"
  },
  "kernelspec": {
   "display_name": "Python 3.10.2 64-bit",
   "language": "python",
   "name": "python3"
  },
  "language_info": {
   "codemirror_mode": {
    "name": "ipython",
    "version": 3
   },
   "file_extension": ".py",
   "mimetype": "text/x-python",
   "name": "python",
   "nbconvert_exporter": "python",
   "pygments_lexer": "ipython3",
   "version": "3.10.2"
  },
  "orig_nbformat": 4
 },
 "nbformat": 4,
 "nbformat_minor": 2
}
