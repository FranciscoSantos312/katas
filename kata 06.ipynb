{
 "cells": [
  {
   "cell_type": "code",
   "execution_count": 20,
   "metadata": {},
   "outputs": [
    {
     "name": "stdout",
     "output_type": "stream",
     "text": [
      "['Mercury', 'Venus', 'Earth', 'Mars', 'Jupiter', 'Saturn', 'Uranus', 'Neptune', 'pluton']\n"
     ]
    }
   ],
   "source": [
    " \n",
    "planets = ['Mercury', 'Venus', 'Earth', 'Mars',\n",
    "           'Jupiter', 'Saturn', 'Uranus', 'Neptune']\n",
    "planets.append(\"pluton\")\n",
    "print(planets)\n",
    "\n",
    " "
   ]
  },
  {
   "cell_type": "code",
   "execution_count": 23,
   "metadata": {},
   "outputs": [
    {
     "name": "stdout",
     "output_type": "stream",
     "text": [
      "los planetas mas cerca al sol son ['Mercury', 'Venus', 'Earth', 'Mars', 'Jupiter']\n",
      "los planetas mas lejos al sol son ['Uranus', 'Neptune', 'pluton']\n"
     ]
    }
   ],
   "source": [
    "planeta = input(\"pon el planeta\")\n",
    "planeta_index = planets.index(planeta)\n",
    "print(\"los planetas mas cerca al sol son \" + str(planets[0:planeta_index]))\n",
    "print(\"los planetas mas lejos al sol son \" + str(planets[planeta_index+1:]))\n"
   ]
  }
 ],
 "metadata": {
  "interpreter": {
   "hash": "cb76ed4e37470d93f09dd6e95549730568701fab57bfa47dbd033a1ed0220b5b"
  },
  "kernelspec": {
   "display_name": "Python 3.10.2 64-bit (windows store)",
   "language": "python",
   "name": "python3"
  },
  "language_info": {
   "codemirror_mode": {
    "name": "ipython",
    "version": 3
   },
   "file_extension": ".py",
   "mimetype": "text/x-python",
   "name": "python",
   "nbconvert_exporter": "python",
   "pygments_lexer": "ipython3",
   "version": "3.10.2"
  },
  "orig_nbformat": 4
 },
 "nbformat": 4,
 "nbformat_minor": 2
}
